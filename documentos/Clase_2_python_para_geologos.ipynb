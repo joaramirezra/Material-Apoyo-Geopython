{
  "nbformat": 4,
  "nbformat_minor": 0,
  "metadata": {
    "colab": {
      "name": "Clase_2_python_para_geologos.ipynb",
      "provenance": [],
      "collapsed_sections": []
    },
    "kernelspec": {
      "name": "python3",
      "display_name": "Python 3"
    }
  },
  "cells": [
    {
      "cell_type": "markdown",
      "metadata": {
        "id": "6QKxFA-DilUU"
      },
      "source": [
        "# Diagramas de flujo \n",
        "\n",
        "https://app.diagrams.net/\n",
        "\n",
        "<center>\n",
        "<img src=\"https://preview.redd.it/pl2qwr76ujky.png?width=640&crop=smart&auto=webp&s=df2215ecb3010338ccd0ed9918055102be97f2c2\"     alt=\"imagen Geologicsa\"\n",
        "     style=\"float: left; margin-right: 10px;\" \n",
        "     width=\"800\" height=\"500\"\n",
        "     />\n",
        "\n",
        "\n",
        "\n"
      ]
    },
    {
      "cell_type": "markdown",
      "metadata": {
        "id": "TSb3tgtLZ06E"
      },
      "source": [
        "# Conceptos basicos \n",
        "- variable \n",
        "- tipos de variable \n",
        "- condicionales\n",
        "\n",
        "<center>\n",
        "<img src=\"https://qph.fs.quoracdn.net/main-qimg-144d3017811fcf7eb1841a9982d28e4f\"     alt=\"imagen Geologicsa\"\n",
        "     style=\"float: left; margin-right: 10px;\" \n",
        "     width=\"800\" height=\"500\"\n",
        "     />\n",
        "\n"
      ]
    },
    {
      "cell_type": "markdown",
      "metadata": {
        "id": "jcJmKJwXY6L1"
      },
      "source": [
        "# Hola Munto en python  \n",
        "\n",
        "introduccion al sintaxis "
      ]
    },
    {
      "cell_type": "code",
      "metadata": {
        "id": "4y6AP2ogpC5k",
        "colab": {
          "base_uri": "https://localhost:8080/"
        },
        "outputId": "54d004bd-726d-49da-8a40-8e04acae383a"
      },
      "source": [
        "# Primer nivel de prioridad o anidacion\n",
        "  # Segundo nivel de prioridad o anidamiento\n",
        "    # Tercer nivel de prioridad o anidamiento \n",
        "\n",
        "print(bin(1))"
      ],
      "execution_count": null,
      "outputs": [
        {
          "output_type": "stream",
          "text": [
            "0b1\n"
          ],
          "name": "stdout"
        }
      ]
    },
    {
      "cell_type": "code",
      "metadata": {
        "id": "319ktxCr76fs"
      },
      "source": [
        "Temas olvidados \n",
        "\n",
        "- numpy \n",
        "- pandas \n",
        "- tensorflow \n",
        "- sklearn\n",
        "\n",
        "\n",
        "- explicar que es colab , como funciona \n",
        "\n",
        "- no hablar de librerias prematuramente\n",
        "\n",
        "- hablar de como configurar el colab \n",
        "- buenas pracicas \n",
        "\n",
        "- entender los errores \n",
        "- segunda clase \n",
        "  - tipos variables\n",
        "  - casteo ( inducir al error) \n",
        "  - ejemplo y \n",
        "\n",
        "explicar la importacia de la secuencialidad del codigo \n",
        "\n",
        "Mostrar formas alternativas de crear notebooks"
      ],
      "execution_count": null,
      "outputs": []
    }
  ]
}