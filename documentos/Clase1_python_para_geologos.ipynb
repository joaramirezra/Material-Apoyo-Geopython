{
  "nbformat": 4,
  "nbformat_minor": 0,
  "metadata": {
    "colab": {
      "name": "Clase1_python_para_geologos.ipynb",
      "provenance": [],
      "collapsed_sections": [],
      "toc_visible": true
    },
    "kernelspec": {
      "name": "python3",
      "display_name": "Python 3"
    }
  },
  "cells": [
    {
      "cell_type": "markdown",
      "metadata": {
        "id": "uk-8hHozXCZm"
      },
      "source": [
        " \n",
        "<center> <h1> Introducción a la programación gelogica </h1>\n",
        " <h3>clase 1 : conceptos de programación </h3>\n",
        "Bogotá 2021 \n",
        "<center>\n",
        "\n",
        "---\n"
      ]
    },
    {
      "cell_type": "markdown",
      "metadata": {
        "id": "9oer0hpaYwlE"
      },
      "source": [
        "- preguntar que es para los geolos\n",
        "\n",
        "\n",
        "<center><img src=\"https://i.ytimg.com/vi/Y4ZIA1A54ww/maxresdefault.jpg\"\n",
        "     alt=\"imagen Geologicsa\"\n",
        "     style=\"float: left; margin-right: 10px;\" \n",
        "     width=\"800\" height=\"500\"\n",
        "     />\n",
        "</center>\n",
        "\n",
        "#  Por que es util en geologia ?\n",
        "\n",
        "<center>\n",
        "<img src=\"https://miro.medium.com/max/512/0*doX60YGeKuq0AIjf.jpg\"\n",
        "     alt=\"imagen Geologicsa\"\n",
        "     style=\"float: left; margin-right: 10px;\" \n",
        "     width=\"800\" height=\"500\"\n",
        "     />\n",
        "</center>"
      ]
    },
    {
      "cell_type": "markdown",
      "metadata": {
        "id": "SS_HYaWz3Uff"
      },
      "source": [
        " ---\n",
        " # ¿ Por qué programar enfocada a la geologia ? \n",
        "\n",
        "- ayuda en la interpretaciones\n",
        "\n",
        "\n",
        "\n",
        "<center>\n",
        "<img src=\"https://www.researchgate.net/publication/330092298/figure/fig5/AS:710724934455297@1546461437731/Probabilistic-programming-results-on-a-cross-section-at-the-middle-of-the-model-Y-10.ppm\"\n",
        "     alt=\"imagen Geologicsa\"\n",
        "     style=\"float: left; margin-right: 10px;\"\n",
        "     width=\"800\" height=\"500\"\n",
        "      />"
      ]
    },
    {
      "cell_type": "markdown",
      "metadata": {
        "id": "F91geXUUYyUJ"
      },
      "source": [
        "# Rutinas y algoritmos \n",
        "<center>\n",
        "<img src=\"https://edukative.es/wp-content/uploads/2016/03/idea1-e1520855254919.png\"\n",
        "     alt=\"imagen Geologicsa\"\n",
        "     style=\"float: left; margin-right: 10px;\"\n",
        "     width=\"800\" height=\"350\"\n",
        "      />"
      ]
    },
    {
      "cell_type": "markdown",
      "metadata": {
        "id": "TSb3tgtLZ06E"
      },
      "source": [
        "# Conceptos basicos \n",
        "- variable \n",
        "- tipos de variable \n",
        "- condicionales\n",
        "\n",
        "<center>\n",
        "<img src=\"https://qph.fs.quoracdn.net/main-qimg-144d3017811fcf7eb1841a9982d28e4f\"     alt=\"imagen Geologicsa\"\n",
        "     style=\"float: left; margin-right: 10px;\" \n",
        "     width=\"800\" height=\"500\"\n",
        "     />\n",
        "\n"
      ]
    },
    {
      "cell_type": "markdown",
      "metadata": {
        "id": "jcJmKJwXY6L1"
      },
      "source": [
        "# Introcuccion a colab   \n",
        "\n",
        " - partes\n",
        " - "
      ]
    },
    {
      "cell_type": "code",
      "metadata": {
        "id": "319ktxCr76fs"
      },
      "source": [
        "Temas olvidados \n",
        "\n",
        "- numpy \n",
        "- pandas \n",
        "- tensorflow \n",
        "- sklearn\n",
        "\n",
        "\n",
        "- explicar que es colab , como funciona \n",
        "\n",
        "- no hablar de librerias prematuramente\n",
        "\n",
        "- hablar de como configurar el colab \n",
        "- buenas pracicas \n",
        "\n",
        "- entender los errores \n",
        "- segunda clase \n",
        "  - tipos variables\n",
        "  - casteo ( inducir al error) \n",
        "  - ejemplo y \n",
        "\n",
        "explicar la importacia de la secuencialidad del codigo \n",
        "\n",
        "Mostrar formas alternativas de crear notebooks"
      ],
      "execution_count": null,
      "outputs": []
    }
  ]
}