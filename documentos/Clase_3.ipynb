{
  "nbformat": 4,
  "nbformat_minor": 0,
  "metadata": {
    "colab": {
      "name": "Clase_3.ipynb",
      "provenance": []
    },
    "kernelspec": {
      "name": "python3",
      "display_name": "Python 3"
    }
  },
  "cells": [
    {
      "cell_type": "markdown",
      "metadata": {
        "id": "8SmBAMA9G24w"
      },
      "source": [
        "# Introduccion (5)\n",
        " \n",
        " \n",
        "<center><img src=\"https://www.codeitbro.com/wp-content/uploads/2020/07/python-jokes-28-my-codei-is-running.jpg\"\n",
        "     alt=\"imagen Geologicsa\"\n",
        "     style=\"float: left; margin-right: 10px;\" \n",
        "     width=\"700\" height=\"500\"\n",
        "     />\n",
        "</center>\n"
      ]
    },
    {
      "cell_type": "markdown",
      "metadata": {
        "id": "LpccTgRLMkHq"
      },
      "source": [
        "# Repaso (10)\n",
        "\n",
        "- rutinas\n",
        "- variable \n",
        "- tipo de variable \n",
        "- sentencias basicas\n",
        "- if, else \n"
      ]
    },
    {
      "cell_type": "code",
      "metadata": {
        "colab": {
          "base_uri": "https://localhost:8080/"
        },
        "id": "M61SRBBoJBuz",
        "outputId": "8e22238b-41ad-4e96-860b-8eaa31682ac3"
      },
      "source": [
        "print('djdljkfds')"
      ],
      "execution_count": null,
      "outputs": [
        {
          "output_type": "stream",
          "text": [
            "djdljkfds\n"
          ],
          "name": "stdout"
        }
      ]
    },
    {
      "cell_type": "markdown",
      "metadata": {
        "id": "MOEC3cVfJEQO"
      },
      "source": [
        "if(condicion): *(nivel 1)*\n",
        ">  evento *(nivel 2)*"
      ]
    },
    {
      "cell_type": "code",
      "metadata": {
        "colab": {
          "base_uri": "https://localhost:8080/"
        },
        "id": "Ll0eSH4WJUIq",
        "outputId": "35fff8a4-da53-4514-b5f3-551569a43fbc"
      },
      "source": [
        "dinero = 3000\n",
        "tiene_bici = False\n",
        "\n",
        "if(dinero> 1950):\n",
        "  dinero = dinero - 1950\n",
        "  print(\"pipe se puede ir en bus\")\n",
        "  print(\" pipe tiene \", dinero )\n",
        "else :\n",
        "  print(\"pipe no se puede ir en bus \")"
      ],
      "execution_count": null,
      "outputs": [
        {
          "output_type": "stream",
          "text": [
            "pipe se puede ir en bus\n",
            " pipe tien  1050\n"
          ],
          "name": "stdout"
        }
      ]
    },
    {
      "cell_type": "code",
      "metadata": {
        "id": "nKL4yzAHkj0I",
        "colab": {
          "base_uri": "https://localhost:8080/"
        },
        "outputId": "80b0a9d5-204e-4f5d-cdca-f842940b92c6"
      },
      "source": [
        "es_iridicente = input(\" ingrese si es iridicente o no (y/n) :\")\n",
        "es_cristalino = input(\"ingrese si es cristalino o no (y/n :\")\n",
        "\n",
        "if(es_iridicente == 'y' and es_cristalino == 'y' ):\n",
        "  print(\" es mineral\")\n",
        "else :\n",
        "  print(\" no sabemos que es\")"
      ],
      "execution_count": null,
      "outputs": [
        {
          "output_type": "stream",
          "text": [
            " ingrese si es iridicente o no (y/n) :n\n",
            "ingrese si es cristalino o no (y/n :y\n",
            " no sabemos que es\n"
          ],
          "name": "stdout"
        }
      ]
    },
    {
      "cell_type": "code",
      "metadata": {
        "colab": {
          "base_uri": "https://localhost:8080/"
        },
        "id": "NFYmXfpOCITW",
        "outputId": "62159757-d148-4bd2-da25-5d67515bd521"
      },
      "source": [
        "pesos = input(\"Cuantos pesos colombianos tiene : \")\n",
        "pesos = int(pesos)\n",
        "dolares = input(\"Cuantos dolaretes tenes : \")\n",
        "dolares = int(dolares)\n",
        "\n",
        "if(pesos > 0 or dolares > 0):\n",
        "  print(\" tienes dinero \")\n",
        "else :\n",
        "  print(\" no tiene dinero , ergo a trabajar vago\")"
      ],
      "execution_count": null,
      "outputs": [
        {
          "output_type": "stream",
          "text": [
            "Cuantos pesos colombianos tiene : 0\n",
            "Cuantos dolaretes tenes : 1\n",
            " tienes dinero \n"
          ],
          "name": "stdout"
        }
      ]
    },
    {
      "cell_type": "markdown",
      "metadata": {
        "id": "aDuqvGJ3m63h"
      },
      "source": [
        "\n",
        "# elif (5)\n",
        "<center><img src=\"https://cr00.epimg.net/radio/imagenes/2019/03/21/entretenimiento/1553169038_975859_1553169227_noticia_normal.jpg\"\n",
        "     alt=\"imagen Geologicsa\"\n",
        "     style=\"float: left; margin-right: 10px;\" \n",
        "     width=\"500\" height=\"400\"\n",
        "     />\n",
        "</center>"
      ]
    },
    {
      "cell_type": "code",
      "metadata": {
        "colab": {
          "base_uri": "https://localhost:8080/"
        },
        "id": "vi6RqNVsnWPm",
        "outputId": "6834777c-9b9c-44b6-8093-e46c5c25e75f"
      },
      "source": [
        "es_iridicente = input(\" ingrese si es iridicente o no (y/n) :\")\n",
        "es_cristalino = input(\"ingrese si es cristalino o no (y/n :\")\n",
        "if(es_iridicente == 'y' and es_cristalino == 'y' ):\n",
        "  print(\" es mineral\")\n",
        "  brillo = input(\"ingrese el brillo :\")\n",
        "  color = input(\"ingrese el color :\")\n",
        "  \n",
        "  if(brillo == 'graso ' and color== \"verde\"):\n",
        "    print(\" ES cuarzo verde\")\n",
        "\n",
        "  elif(brillo == 'graso ' and color== \"rosado\"):\n",
        "    print(\" es cuarzo rosado\")\n",
        "  \n",
        "  elif(brillo == 'graso ' and color== \"blanco\"):\n",
        "    print(\" es cuarzo blanco\")\n",
        "  else :\n",
        "    print(\"es un cuarzo\")\n",
        "  \n",
        "  else:\n",
        "    print(\"no es cuarzo \")\n",
        "else :\n",
        "  print(\" no sabemos que es\")"
      ],
      "execution_count": null,
      "outputs": [
        {
          "output_type": "stream",
          "text": [
            " ingrese si es iridicente o no (y/n) :y\n",
            "ingrese si es cristalino o no (y/n :y\n",
            " es mineral\n",
            "ingrese el brillograso \n",
            " ES cuarzo\n"
          ],
          "name": "stdout"
        }
      ]
    },
    {
      "cell_type": "code",
      "metadata": {
        "colab": {
          "base_uri": "https://localhost:8080/"
        },
        "id": "3V7dxQSPQxaf",
        "outputId": "8eaa4465-24d8-4ee1-9622-f38fd0e145cf"
      },
      "source": [
        "brillo = input(\"ingrese el brillo :\")\n",
        "color = input(\"ingrese el color :\")\n",
        "\n",
        "if(brillo == 'graso' and color== \"verde\"):\n",
        "  print(\" ES cuarzo verde\")\n",
        "\n",
        "elif(brillo == 'graso' and color== \"rosado\"):\n",
        "  print(\" es cuarzo rosado\")\n",
        "\n",
        "elif(brillo == 'graso' and color== \"blanco\"):\n",
        "  print(\" es cuarzo blanco\")\n",
        "else :\n",
        "  print(\"es un cuarzo\")\n",
        "  "
      ],
      "execution_count": null,
      "outputs": [
        {
          "output_type": "stream",
          "text": [
            "ingrese el brillo :graso\n",
            "ingrese el color :blanco\n",
            " es cuarzo blanco\n"
          ],
          "name": "stdout"
        }
      ]
    },
    {
      "cell_type": "markdown",
      "metadata": {
        "id": "Ys2v18mvMJlX"
      },
      "source": [
        "# Ciclos ( 20 min)\n",
        "- Ciclos- for  # Cuando uno sabe la condicion que que hace terminar\n",
        "- while # uno no sabe la instruccion para terminar\n",
        "\n",
        "<center><img src=\"https://i.pinimg.com/originals/f5/d3/d2/f5d3d20efd7519d9e01fc88b0c7fc7b0.jpg\"\n",
        "     alt=\"imagen Geologicsa\"\n",
        "     style=\"float: left; margin-right: 10px;\" \n",
        "     width=\"500\" height=\"400\"\n",
        "     />\n",
        "</center>\n",
        "\n",
        "\n",
        "<center><img src=\"https://beginnersbook.com/wp-content/uploads/2017/09/for_loop_C.jpg\"\n",
        "     alt=\"imagen Geologicsa\"\n",
        "     style=\"float: left; margin-right: 10px;\" \n",
        "     width=\"500\" height=\"400\"\n",
        "     />\n",
        "</center>\n",
        "\n"
      ]
    },
    {
      "cell_type": "code",
      "metadata": {
        "colab": {
          "base_uri": "https://localhost:8080/"
        },
        "id": "QzKyakAFszOY",
        "outputId": "8756bc8d-381d-4d47-eb8e-0f272a0fea94"
      },
      "source": [
        "for dia in range(1,31):\n",
        "  print(\"dia : \", dia)\n",
        "  if(dia == 15 or dia == 30):\n",
        "    print('Hoy como salchipapa')\n",
        "  else : \n",
        "    print('Hoy como arroz con huevo')"
      ],
      "execution_count": null,
      "outputs": [
        {
          "output_type": "stream",
          "text": [
            "dia :  1\n",
            "Hoy como arroz con huevo\n",
            "dia :  2\n",
            "Hoy como arroz con huevo\n",
            "dia :  3\n",
            "Hoy como arroz con huevo\n",
            "dia :  4\n",
            "Hoy como arroz con huevo\n",
            "dia :  5\n",
            "Hoy como arroz con huevo\n",
            "dia :  6\n",
            "Hoy como arroz con huevo\n",
            "dia :  7\n",
            "Hoy como arroz con huevo\n",
            "dia :  8\n",
            "Hoy como arroz con huevo\n",
            "dia :  9\n",
            "Hoy como arroz con huevo\n",
            "dia :  10\n",
            "Hoy como arroz con huevo\n",
            "dia :  11\n",
            "Hoy como arroz con huevo\n",
            "dia :  12\n",
            "Hoy como arroz con huevo\n",
            "dia :  13\n",
            "Hoy como arroz con huevo\n",
            "dia :  14\n",
            "Hoy como arroz con huevo\n",
            "dia :  15\n",
            "Hoy como salchipapa\n",
            "dia :  16\n",
            "Hoy como arroz con huevo\n",
            "dia :  17\n",
            "Hoy como arroz con huevo\n",
            "dia :  18\n",
            "Hoy como arroz con huevo\n",
            "dia :  19\n",
            "Hoy como arroz con huevo\n",
            "dia :  20\n",
            "Hoy como arroz con huevo\n",
            "dia :  21\n",
            "Hoy como arroz con huevo\n",
            "dia :  22\n",
            "Hoy como arroz con huevo\n",
            "dia :  23\n",
            "Hoy como arroz con huevo\n",
            "dia :  24\n",
            "Hoy como arroz con huevo\n",
            "dia :  25\n",
            "Hoy como arroz con huevo\n",
            "dia :  26\n",
            "Hoy como arroz con huevo\n",
            "dia :  27\n",
            "Hoy como arroz con huevo\n",
            "dia :  28\n",
            "Hoy como arroz con huevo\n",
            "dia :  29\n",
            "Hoy como arroz con huevo\n",
            "dia :  30\n",
            "Hoy como salchipapa\n"
          ],
          "name": "stdout"
        }
      ]
    },
    {
      "cell_type": "code",
      "metadata": {
        "colab": {
          "base_uri": "https://localhost:8080/"
        },
        "id": "Gc868l1fUMu5",
        "outputId": "725dd4fa-62f7-4fb2-fc77-8386e6531194"
      },
      "source": [
        "lista_estudiantes = ['milton','pipe','laura','ivan']\n",
        "for estudiante in lista_estudiantes :\n",
        "  print(\"su nombre es : \",estudiante )"
      ],
      "execution_count": null,
      "outputs": [
        {
          "output_type": "stream",
          "text": [
            "su nombre es :  milton\n",
            "su nombre es :  pipe\n",
            "su nombre es :  laura\n",
            "su nombre es :  ivan\n"
          ],
          "name": "stdout"
        }
      ]
    },
    {
      "cell_type": "code",
      "metadata": {
        "colab": {
          "base_uri": "https://localhost:8080/"
        },
        "id": "8OJMVmmXUyiT",
        "outputId": "15b30b73-1673-4e86-a617-cb213eac603b"
      },
      "source": [
        "for indice in range(0,100,10):\n",
        "  print(indice)"
      ],
      "execution_count": null,
      "outputs": [
        {
          "output_type": "stream",
          "text": [
            "0\n",
            "10\n",
            "20\n",
            "30\n",
            "40\n",
            "50\n",
            "60\n",
            "70\n",
            "80\n",
            "90\n"
          ],
          "name": "stdout"
        }
      ]
    },
    {
      "cell_type": "code",
      "metadata": {
        "id": "VjcIJwEwPmm_"
      },
      "source": [
        "# for limite de intentos\n",
        "# while sigue intentandolo hasta que se cumpla una instruccion \n",
        "\n",
        "# for rango\n",
        "#  while ciclo primario "
      ],
      "execution_count": null,
      "outputs": []
    },
    {
      "cell_type": "markdown",
      "metadata": {
        "id": "gRljAvsjMik1"
      },
      "source": [
        " # Ejemplo ciclo for (10 Min)\n",
        "\n"
      ]
    },
    {
      "cell_type": "code",
      "metadata": {
        "id": "2xjklBNARHfD"
      },
      "source": [
        "numero_ganador_pollo = 42\n",
        "numero = 0\n",
        "while (numero != numero_ganador_pollo):\n",
        "  numero = input(\"Escriba un numero entre 1 y 100 :\")\n",
        "  numero = int(numero)\n",
        "  if(numero != numero_ganador_pollo):\n",
        "    print(\"perdiste la oportunidad de comer pollito\")\n",
        "  else:\n",
        "    print(\" Hay un ganador \")"
      ],
      "execution_count": null,
      "outputs": []
    },
    {
      "cell_type": "code",
      "metadata": {
        "colab": {
          "base_uri": "https://localhost:8080/"
        },
        "id": "ksz770W8GPiu",
        "outputId": "93c38fed-3fa4-4913-9989-358a477b5a48"
      },
      "source": [
        "numero_ganador_pollo = 42\n",
        "numero = 0\n",
        "\n",
        "for intento in [1,2,3]:\n",
        "  numero = input(\"Escriba un numero entre 1 y 100 :\")\n",
        "  numero = int(numero)\n",
        "  if(numero == numero_ganador_pollo):\n",
        "    print(\" Hay un ganador \")\n",
        "    break     \n",
        "  else : \n",
        "    print(\" no le pego al numero en el intento \", intento)\n",
        "  if(intento == 3):\n",
        "    print(\" no tiene mas intentos \")"
      ],
      "execution_count": null,
      "outputs": [
        {
          "output_type": "stream",
          "text": [
            "Escriba un numero entre 1 y 100 :8\n",
            " no le pego al numero en el intento  1\n",
            "Escriba un numero entre 1 y 100 :42\n",
            " Hay un ganador \n"
          ],
          "name": "stdout"
        }
      ]
    },
    {
      "cell_type": "code",
      "metadata": {
        "colab": {
          "base_uri": "https://localhost:8080/",
          "height": 712
        },
        "id": "rIz_qINcX_4K",
        "outputId": "6f3c7ecd-323a-4f98-b2dc-286c3d50e74b"
      },
      "source": [
        "#\"Clasificación de rocas ígneas según su porcentaje en sílice\"\n",
        "\n",
        "while True:\n",
        "  SiO2 = input(\"Digite el contenido de cuarzo de la roca ígnea: \")\n",
        "  try:\n",
        "    SiO2 = float(SiO2)\n",
        "  except:\n",
        "    break\n",
        "    \n",
        "  if (35 <= SiO2 <= 45):\n",
        "    print(\"Es una roca ultrabásica\")\n",
        "  elif (46 <= SiO2 <= 52):\n",
        "    print(\"Basaltos - Gabros\")\n",
        "  elif (53 <= SiO2 <= 66):\n",
        "    print(\"Andesitas - Dioritas\")\n",
        "  elif (67 <= SiO2 <= 77):\n",
        "    print(\"Riolitas - Granitos\")\n",
        "  else:\n",
        "    print(\"error\")\n",
        "    break"
      ],
      "execution_count": null,
      "outputs": [
        {
          "output_type": "stream",
          "text": [
            "Digite el contenido de cuarzo de la roca ígnea: 85\n",
            "error\n",
            "Digite el contenido de cuarzo de la roca ígnea: 74\n",
            "Riolitas - Granitos\n",
            "Digite el contenido de cuarzo de la roca ígnea: 53\n",
            "Andesitas - Dioritas\n",
            "Digite el contenido de cuarzo de la roca ígnea: 84\n",
            "error\n"
          ],
          "name": "stdout"
        },
        {
          "output_type": "error",
          "ename": "KeyboardInterrupt",
          "evalue": "ignored",
          "traceback": [
            "\u001b[0;31m---------------------------------------------------------------------------\u001b[0m",
            "\u001b[0;31mKeyboardInterrupt\u001b[0m                         Traceback (most recent call last)",
            "\u001b[0;32m/usr/local/lib/python3.7/dist-packages/ipykernel/kernelbase.py\u001b[0m in \u001b[0;36m_input_request\u001b[0;34m(self, prompt, ident, parent, password)\u001b[0m\n\u001b[1;32m    728\u001b[0m             \u001b[0;32mtry\u001b[0m\u001b[0;34m:\u001b[0m\u001b[0;34m\u001b[0m\u001b[0;34m\u001b[0m\u001b[0m\n\u001b[0;32m--> 729\u001b[0;31m                 \u001b[0mident\u001b[0m\u001b[0;34m,\u001b[0m \u001b[0mreply\u001b[0m \u001b[0;34m=\u001b[0m \u001b[0mself\u001b[0m\u001b[0;34m.\u001b[0m\u001b[0msession\u001b[0m\u001b[0;34m.\u001b[0m\u001b[0mrecv\u001b[0m\u001b[0;34m(\u001b[0m\u001b[0mself\u001b[0m\u001b[0;34m.\u001b[0m\u001b[0mstdin_socket\u001b[0m\u001b[0;34m,\u001b[0m \u001b[0;36m0\u001b[0m\u001b[0;34m)\u001b[0m\u001b[0;34m\u001b[0m\u001b[0;34m\u001b[0m\u001b[0m\n\u001b[0m\u001b[1;32m    730\u001b[0m             \u001b[0;32mexcept\u001b[0m \u001b[0mException\u001b[0m\u001b[0;34m:\u001b[0m\u001b[0;34m\u001b[0m\u001b[0;34m\u001b[0m\u001b[0m\n",
            "\u001b[0;32m/usr/local/lib/python3.7/dist-packages/jupyter_client/session.py\u001b[0m in \u001b[0;36mrecv\u001b[0;34m(self, socket, mode, content, copy)\u001b[0m\n\u001b[1;32m    802\u001b[0m         \u001b[0;32mtry\u001b[0m\u001b[0;34m:\u001b[0m\u001b[0;34m\u001b[0m\u001b[0;34m\u001b[0m\u001b[0m\n\u001b[0;32m--> 803\u001b[0;31m             \u001b[0mmsg_list\u001b[0m \u001b[0;34m=\u001b[0m \u001b[0msocket\u001b[0m\u001b[0;34m.\u001b[0m\u001b[0mrecv_multipart\u001b[0m\u001b[0;34m(\u001b[0m\u001b[0mmode\u001b[0m\u001b[0;34m,\u001b[0m \u001b[0mcopy\u001b[0m\u001b[0;34m=\u001b[0m\u001b[0mcopy\u001b[0m\u001b[0;34m)\u001b[0m\u001b[0;34m\u001b[0m\u001b[0;34m\u001b[0m\u001b[0m\n\u001b[0m\u001b[1;32m    804\u001b[0m         \u001b[0;32mexcept\u001b[0m \u001b[0mzmq\u001b[0m\u001b[0;34m.\u001b[0m\u001b[0mZMQError\u001b[0m \u001b[0;32mas\u001b[0m \u001b[0me\u001b[0m\u001b[0;34m:\u001b[0m\u001b[0;34m\u001b[0m\u001b[0;34m\u001b[0m\u001b[0m\n",
            "\u001b[0;32m/usr/local/lib/python3.7/dist-packages/zmq/sugar/socket.py\u001b[0m in \u001b[0;36mrecv_multipart\u001b[0;34m(self, flags, copy, track)\u001b[0m\n\u001b[1;32m    582\u001b[0m         \"\"\"\n\u001b[0;32m--> 583\u001b[0;31m         \u001b[0mparts\u001b[0m \u001b[0;34m=\u001b[0m \u001b[0;34m[\u001b[0m\u001b[0mself\u001b[0m\u001b[0;34m.\u001b[0m\u001b[0mrecv\u001b[0m\u001b[0;34m(\u001b[0m\u001b[0mflags\u001b[0m\u001b[0;34m,\u001b[0m \u001b[0mcopy\u001b[0m\u001b[0;34m=\u001b[0m\u001b[0mcopy\u001b[0m\u001b[0;34m,\u001b[0m \u001b[0mtrack\u001b[0m\u001b[0;34m=\u001b[0m\u001b[0mtrack\u001b[0m\u001b[0;34m)\u001b[0m\u001b[0;34m]\u001b[0m\u001b[0;34m\u001b[0m\u001b[0;34m\u001b[0m\u001b[0m\n\u001b[0m\u001b[1;32m    584\u001b[0m         \u001b[0;31m# have first part already, only loop while more to receive\u001b[0m\u001b[0;34m\u001b[0m\u001b[0;34m\u001b[0m\u001b[0;34m\u001b[0m\u001b[0m\n",
            "\u001b[0;32mzmq/backend/cython/socket.pyx\u001b[0m in \u001b[0;36mzmq.backend.cython.socket.Socket.recv\u001b[0;34m()\u001b[0m\n",
            "\u001b[0;32mzmq/backend/cython/socket.pyx\u001b[0m in \u001b[0;36mzmq.backend.cython.socket.Socket.recv\u001b[0;34m()\u001b[0m\n",
            "\u001b[0;32mzmq/backend/cython/socket.pyx\u001b[0m in \u001b[0;36mzmq.backend.cython.socket._recv_copy\u001b[0;34m()\u001b[0m\n",
            "\u001b[0;32m/usr/local/lib/python3.7/dist-packages/zmq/backend/cython/checkrc.pxd\u001b[0m in \u001b[0;36mzmq.backend.cython.checkrc._check_rc\u001b[0;34m()\u001b[0m\n",
            "\u001b[0;31mKeyboardInterrupt\u001b[0m: ",
            "\nDuring handling of the above exception, another exception occurred:\n",
            "\u001b[0;31mKeyboardInterrupt\u001b[0m                         Traceback (most recent call last)",
            "\u001b[0;32m<ipython-input-44-3f71c4f2de07>\u001b[0m in \u001b[0;36m<module>\u001b[0;34m()\u001b[0m\n\u001b[1;32m      1\u001b[0m \u001b[0;31m#\"Clasificación de rocas ígneas según su porcentaje en sílice\"\u001b[0m\u001b[0;34m\u001b[0m\u001b[0;34m\u001b[0m\u001b[0;34m\u001b[0m\u001b[0m\n\u001b[1;32m      2\u001b[0m \u001b[0;32mwhile\u001b[0m \u001b[0;32mTrue\u001b[0m\u001b[0;34m:\u001b[0m\u001b[0;34m\u001b[0m\u001b[0;34m\u001b[0m\u001b[0m\n\u001b[0;32m----> 3\u001b[0;31m   \u001b[0mSiO2\u001b[0m \u001b[0;34m=\u001b[0m \u001b[0minput\u001b[0m\u001b[0;34m(\u001b[0m\u001b[0;34m\"Digite el contenido de cuarzo de la roca ígnea: \"\u001b[0m\u001b[0;34m)\u001b[0m\u001b[0;34m\u001b[0m\u001b[0;34m\u001b[0m\u001b[0m\n\u001b[0m\u001b[1;32m      4\u001b[0m   \u001b[0;32mtry\u001b[0m\u001b[0;34m:\u001b[0m\u001b[0;34m\u001b[0m\u001b[0;34m\u001b[0m\u001b[0m\n\u001b[1;32m      5\u001b[0m     \u001b[0mSiO2\u001b[0m \u001b[0;34m=\u001b[0m \u001b[0mfloat\u001b[0m\u001b[0;34m(\u001b[0m\u001b[0mSiO2\u001b[0m\u001b[0;34m)\u001b[0m\u001b[0;34m\u001b[0m\u001b[0;34m\u001b[0m\u001b[0m\n",
            "\u001b[0;32m/usr/local/lib/python3.7/dist-packages/ipykernel/kernelbase.py\u001b[0m in \u001b[0;36mraw_input\u001b[0;34m(self, prompt)\u001b[0m\n\u001b[1;32m    702\u001b[0m             \u001b[0mself\u001b[0m\u001b[0;34m.\u001b[0m\u001b[0m_parent_ident\u001b[0m\u001b[0;34m,\u001b[0m\u001b[0;34m\u001b[0m\u001b[0;34m\u001b[0m\u001b[0m\n\u001b[1;32m    703\u001b[0m             \u001b[0mself\u001b[0m\u001b[0;34m.\u001b[0m\u001b[0m_parent_header\u001b[0m\u001b[0;34m,\u001b[0m\u001b[0;34m\u001b[0m\u001b[0;34m\u001b[0m\u001b[0m\n\u001b[0;32m--> 704\u001b[0;31m             \u001b[0mpassword\u001b[0m\u001b[0;34m=\u001b[0m\u001b[0;32mFalse\u001b[0m\u001b[0;34m,\u001b[0m\u001b[0;34m\u001b[0m\u001b[0;34m\u001b[0m\u001b[0m\n\u001b[0m\u001b[1;32m    705\u001b[0m         )\n\u001b[1;32m    706\u001b[0m \u001b[0;34m\u001b[0m\u001b[0m\n",
            "\u001b[0;32m/usr/local/lib/python3.7/dist-packages/ipykernel/kernelbase.py\u001b[0m in \u001b[0;36m_input_request\u001b[0;34m(self, prompt, ident, parent, password)\u001b[0m\n\u001b[1;32m    732\u001b[0m             \u001b[0;32mexcept\u001b[0m \u001b[0mKeyboardInterrupt\u001b[0m\u001b[0;34m:\u001b[0m\u001b[0;34m\u001b[0m\u001b[0;34m\u001b[0m\u001b[0m\n\u001b[1;32m    733\u001b[0m                 \u001b[0;31m# re-raise KeyboardInterrupt, to truncate traceback\u001b[0m\u001b[0;34m\u001b[0m\u001b[0;34m\u001b[0m\u001b[0;34m\u001b[0m\u001b[0m\n\u001b[0;32m--> 734\u001b[0;31m                 \u001b[0;32mraise\u001b[0m \u001b[0mKeyboardInterrupt\u001b[0m\u001b[0;34m\u001b[0m\u001b[0;34m\u001b[0m\u001b[0m\n\u001b[0m\u001b[1;32m    735\u001b[0m             \u001b[0;32melse\u001b[0m\u001b[0;34m:\u001b[0m\u001b[0;34m\u001b[0m\u001b[0;34m\u001b[0m\u001b[0m\n\u001b[1;32m    736\u001b[0m                 \u001b[0;32mbreak\u001b[0m\u001b[0;34m\u001b[0m\u001b[0;34m\u001b[0m\u001b[0m\n",
            "\u001b[0;31mKeyboardInterrupt\u001b[0m: "
          ]
        }
      ]
    },
    {
      "cell_type": "code",
      "metadata": {
        "id": "wdlOWuDVZI81"
      },
      "source": [
        ". mas ejemplos \n",
        "- mas ejemplo para clasificar \n",
        "- coodigos corticos \n",
        "\n",
        "- handbook de codigo "
      ],
      "execution_count": null,
      "outputs": []
    }
  ]
}