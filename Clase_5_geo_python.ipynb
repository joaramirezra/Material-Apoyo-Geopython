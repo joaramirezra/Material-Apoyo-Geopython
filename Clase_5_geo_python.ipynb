{
  "nbformat": 4,
  "nbformat_minor": 0,
  "metadata": {
    "colab": {
      "name": "Clase_5_geo_python.ipynb",
      "provenance": [],
      "collapsed_sections": [],
      "authorship_tag": "ABX9TyODSBBXom3+GPokEB6gCfg2",
      "include_colab_link": true
    },
    "kernelspec": {
      "name": "python3",
      "display_name": "Python 3"
    },
    "language_info": {
      "name": "python"
    }
  },
  "cells": [
    {
      "cell_type": "markdown",
      "metadata": {
        "id": "view-in-github",
        "colab_type": "text"
      },
      "source": [
        "<a href=\"https://colab.research.google.com/github/joaramirezra/Material-Apoyo-Geopython/blob/Johan/Clase_5_geo_python.ipynb\" target=\"_parent\"><img src=\"https://colab.research.google.com/assets/colab-badge.svg\" alt=\"Open In Colab\"/></a>"
      ]
    },
    {
      "cell_type": "markdown",
      "metadata": {
        "id": "CIndwahD1Ux_"
      },
      "source": [
        "# Introduccion (5)\n",
        "\n",
        "<center><img src=\"https://www.thecoderpedia.com/wp-content/uploads/2020/06/Coding-Jokes-Network-Specialist-1024x1007.jpg\"\n",
        "     alt=\"imagen Geologicsa\"\n",
        "     style=\"float: left; margin-right: 10px;\" \n",
        "     width=\"800\" height=\"600\"\n",
        "     />\n",
        "</center> "
      ]
    },
    {
      "cell_type": "markdown",
      "metadata": {
        "id": "ZnxFzBJitHwZ"
      },
      "source": [
        "# Repaso general (5)\n",
        "\n",
        "- Variable \n",
        "- condiconales\n",
        "- ciclos \n"
      ]
    },
    {
      "cell_type": "code",
      "metadata": {
        "id": "bCn6aGqO7_Xk",
        "colab": {
          "base_uri": "https://localhost:8080/"
        },
        "outputId": "6185f4f6-e719-4c3b-8114-679579fbdfc9"
      },
      "source": [
        "tengo_hambre = True\n",
        "tengo_comida = False\n",
        "if (tengo_hambre and tengo_comida):\n",
        "  print(\" Comere algo\")\n",
        "elif(tengo_hambre and ~tengo_comida):\n",
        "  print(\" me mordio la marrana\")\n",
        "else : \n",
        "  print(\"estoy lleno \")"
      ],
      "execution_count": null,
      "outputs": [
        {
          "output_type": "stream",
          "text": [
            " me mordio la marrana\n"
          ],
          "name": "stdout"
        }
      ]
    },
    {
      "cell_type": "code",
      "metadata": {
        "id": "cwf4W8oMBhoY"
      },
      "source": [
        "archivo = open(\"minerales.txt\",'a')\n",
        "archivo.write(\"que mas loca \\n\")\n",
        "archivo.close()"
      ],
      "execution_count": null,
      "outputs": []
    },
    {
      "cell_type": "code",
      "metadata": {
        "colab": {
          "base_uri": "https://localhost:8080/"
        },
        "id": "r8eaAnhcMfjj",
        "outputId": "e9468e04-3f60-4d0d-ba00-215badcc57cf"
      },
      "source": [
        "for letra in \"valentina\":\n",
        "  if (letra == 'v'):\n",
        "    print(letra + \"alentia\")\n",
        "  else :\n",
        "    print(letra)"
      ],
      "execution_count": null,
      "outputs": [
        {
          "output_type": "stream",
          "text": [
            "valentia\n",
            "a\n",
            "l\n",
            "e\n",
            "n\n",
            "t\n",
            "i\n",
            "n\n",
            "a\n"
          ],
          "name": "stdout"
        }
      ]
    },
    {
      "cell_type": "code",
      "metadata": {
        "colab": {
          "base_uri": "https://localhost:8080/"
        },
        "id": "PrLb2wmbM62h",
        "outputId": "89d77dfa-a3c0-416a-96f1-63ad1c69fe17"
      },
      "source": [
        "# while [ condicon] :\n",
        "#   [sentencia]\n",
        "\n",
        "estar_encamino = True\n",
        "numero_pasos = 0\n",
        "\n",
        "while(estar_encamino):\n",
        "  if(numero_pasos < 100):\n",
        "    numero_pasos = numero_pasos + 1\n",
        "    print(\"llevamos \", numero_pasos , \" pasos\")\n",
        "  else : \n",
        "    estar_encamino = False"
      ],
      "execution_count": null,
      "outputs": [
        {
          "output_type": "stream",
          "text": [
            "llevamos  1  pasos\n",
            "llevamos  2  pasos\n",
            "llevamos  3  pasos\n",
            "llevamos  4  pasos\n",
            "llevamos  5  pasos\n",
            "llevamos  6  pasos\n",
            "llevamos  7  pasos\n",
            "llevamos  8  pasos\n",
            "llevamos  9  pasos\n",
            "llevamos  10  pasos\n",
            "llevamos  11  pasos\n",
            "llevamos  12  pasos\n",
            "llevamos  13  pasos\n",
            "llevamos  14  pasos\n",
            "llevamos  15  pasos\n",
            "llevamos  16  pasos\n",
            "llevamos  17  pasos\n",
            "llevamos  18  pasos\n",
            "llevamos  19  pasos\n",
            "llevamos  20  pasos\n",
            "llevamos  21  pasos\n",
            "llevamos  22  pasos\n",
            "llevamos  23  pasos\n",
            "llevamos  24  pasos\n",
            "llevamos  25  pasos\n",
            "llevamos  26  pasos\n",
            "llevamos  27  pasos\n",
            "llevamos  28  pasos\n",
            "llevamos  29  pasos\n",
            "llevamos  30  pasos\n",
            "llevamos  31  pasos\n",
            "llevamos  32  pasos\n",
            "llevamos  33  pasos\n",
            "llevamos  34  pasos\n",
            "llevamos  35  pasos\n",
            "llevamos  36  pasos\n",
            "llevamos  37  pasos\n",
            "llevamos  38  pasos\n",
            "llevamos  39  pasos\n",
            "llevamos  40  pasos\n",
            "llevamos  41  pasos\n",
            "llevamos  42  pasos\n",
            "llevamos  43  pasos\n",
            "llevamos  44  pasos\n",
            "llevamos  45  pasos\n",
            "llevamos  46  pasos\n",
            "llevamos  47  pasos\n",
            "llevamos  48  pasos\n",
            "llevamos  49  pasos\n",
            "llevamos  50  pasos\n",
            "llevamos  51  pasos\n",
            "llevamos  52  pasos\n",
            "llevamos  53  pasos\n",
            "llevamos  54  pasos\n",
            "llevamos  55  pasos\n",
            "llevamos  56  pasos\n",
            "llevamos  57  pasos\n",
            "llevamos  58  pasos\n",
            "llevamos  59  pasos\n",
            "llevamos  60  pasos\n",
            "llevamos  61  pasos\n",
            "llevamos  62  pasos\n",
            "llevamos  63  pasos\n",
            "llevamos  64  pasos\n",
            "llevamos  65  pasos\n",
            "llevamos  66  pasos\n",
            "llevamos  67  pasos\n",
            "llevamos  68  pasos\n",
            "llevamos  69  pasos\n",
            "llevamos  70  pasos\n",
            "llevamos  71  pasos\n",
            "llevamos  72  pasos\n",
            "llevamos  73  pasos\n",
            "llevamos  74  pasos\n",
            "llevamos  75  pasos\n",
            "llevamos  76  pasos\n",
            "llevamos  77  pasos\n",
            "llevamos  78  pasos\n",
            "llevamos  79  pasos\n",
            "llevamos  80  pasos\n",
            "llevamos  81  pasos\n",
            "llevamos  82  pasos\n",
            "llevamos  83  pasos\n",
            "llevamos  84  pasos\n",
            "llevamos  85  pasos\n",
            "llevamos  86  pasos\n",
            "llevamos  87  pasos\n",
            "llevamos  88  pasos\n",
            "llevamos  89  pasos\n",
            "llevamos  90  pasos\n",
            "llevamos  91  pasos\n",
            "llevamos  92  pasos\n",
            "llevamos  93  pasos\n",
            "llevamos  94  pasos\n",
            "llevamos  95  pasos\n",
            "llevamos  96  pasos\n",
            "llevamos  97  pasos\n",
            "llevamos  98  pasos\n",
            "llevamos  99  pasos\n",
            "llevamos  100  pasos\n"
          ],
          "name": "stdout"
        }
      ]
    },
    {
      "cell_type": "code",
      "metadata": {
        "colab": {
          "base_uri": "https://localhost:8080/"
        },
        "id": "XLWQ5h20N_VC",
        "outputId": "77c24987-7677-4cd9-9d1f-25a764ccaae0"
      },
      "source": [
        "#             0             1           2           3\n",
        "listas = ['nombres','direccioens', 'apellidos ', 'edades']\n",
        "listas.append(\"correo electronico \")\n",
        "listas.pop(3)\n",
        "listas"
      ],
      "execution_count": null,
      "outputs": [
        {
          "output_type": "execute_result",
          "data": {
            "text/plain": [
              "['nombres', 'direccioens', 'apellidos ', 'correo electronico ']"
            ]
          },
          "metadata": {
            "tags": []
          },
          "execution_count": 45
        }
      ]
    },
    {
      "cell_type": "code",
      "metadata": {
        "colab": {
          "base_uri": "https://localhost:8080/"
        },
        "id": "_N7uTVCQBxb8",
        "outputId": "b82e84a8-81e3-403b-d5d6-470c0f62437b"
      },
      "source": [
        "for mineral in [\"cuarzo\",\"hiero\", \"oro\"]:\n",
        "  print(mineral)\n",
        "# archivo.close()"
      ],
      "execution_count": null,
      "outputs": [
        {
          "output_type": "stream",
          "text": [
            "cuarzo\n",
            "hiero\n",
            "oro\n"
          ],
          "name": "stdout"
        }
      ]
    },
    {
      "cell_type": "code",
      "metadata": {
        "colab": {
          "base_uri": "https://localhost:8080/"
        },
        "id": "4cKnMT6YPZ_F",
        "outputId": "2bda69f5-c930-41a8-ba13-9b88ad09c478"
      },
      "source": [
        "listas.append(\"nombres\")\n",
        "\n",
        "listas.count(\"nombres\")"
      ],
      "execution_count": null,
      "outputs": [
        {
          "output_type": "execute_result",
          "data": {
            "text/plain": [
              "5"
            ]
          },
          "metadata": {
            "tags": []
          },
          "execution_count": 67
        }
      ]
    },
    {
      "cell_type": "code",
      "metadata": {
        "colab": {
          "base_uri": "https://localhost:8080/"
        },
        "id": "yhzh7WR-QKa4",
        "outputId": "776e3ac0-7724-410c-8a5f-4d828adc8a66"
      },
      "source": [
        "help(list.count)"
      ],
      "execution_count": null,
      "outputs": [
        {
          "output_type": "stream",
          "text": [
            "Help on method_descriptor:\n",
            "\n",
            "count(self, value, /)\n",
            "    Return number of occurrences of value.\n",
            "\n"
          ],
          "name": "stdout"
        }
      ]
    },
    {
      "cell_type": "code",
      "metadata": {
        "colab": {
          "base_uri": "https://localhost:8080/"
        },
        "id": "FlfaSIufDBJM",
        "outputId": "ca35260e-de8b-486f-ccfa-7424ce9ba75f"
      },
      "source": [
        "archivo = open(\"puntos.txt\",\"w\")\n",
        "numero_puntos = int(input(\"ingrese cuantos puntos desea muestrear\"))\n",
        "\n",
        "for punto in range(numero_puntos):\n",
        "  \n",
        "  mineral = input(\"ingrese mineral : \")\n",
        "  size = input(\"ingrese numero reticulas : \") \n",
        "  forma = input(\"ingrese la forma del mineral : \") \n",
        "  observaciones = input(\"ingrese las observaciones : \") \n",
        "  \n",
        "  try :\n",
        "    size = int(size)\n",
        "  except : \n",
        "    print(\"mucho burro vaya a estudiar \")\n",
        "    size = int(input(\"ingrese numero reticulas : \"))\n",
        "    pass\n",
        "\n",
        "  size = size / 50 \n",
        "  \n",
        "  cadena = str(punto+1 )\n",
        "  cadena += \" \" + str(mineral)\n",
        "  cadena += \" \" + str(size)\n",
        "  cadena += \" \" + \"mm\"\n",
        "  cadena += \" \" + str(forma)\n",
        "  cadena += \" \" + str(observaciones)\n",
        "  cadena += \"\\n\"\n",
        "\n",
        "  archivo.write(cadena)\n",
        "\n",
        "archivo.close()\n"
      ],
      "execution_count": null,
      "outputs": [
        {
          "output_type": "stream",
          "text": [
            "ingrese cuantos puntos desea muestrear1\n",
            "ingrese mineral : alejandrita\n",
            "ingrese numero reticulas : 50\n",
            "ingrese la forma del mineral : delgada\n",
            "ingrese las observaciones : muy bine \n"
          ],
          "name": "stdout"
        }
      ]
    },
    {
      "cell_type": "code",
      "metadata": {
        "colab": {
          "base_uri": "https://localhost:8080/"
        },
        "id": "r30PdD63GOek",
        "outputId": "28308a50-bca7-41fb-88f2-3a656646a3a7"
      },
      "source": [
        "variable = \"zolo \" + \" millos \" + \" locas \"\n",
        "variable += \" otra cosa \" \n",
        "\n",
        "print(variable)"
      ],
      "execution_count": null,
      "outputs": [
        {
          "output_type": "stream",
          "text": [
            "zolo  millos  locas  otra cosa \n"
          ],
          "name": "stdout"
        }
      ]
    },
    {
      "cell_type": "markdown",
      "metadata": {
        "id": "cjCx6aFPtTKM"
      },
      "source": [
        "# Repaso listas ( 10)\n"
      ]
    },
    {
      "cell_type": "code",
      "metadata": {
        "colab": {
          "base_uri": "https://localhost:8080/",
          "height": 35
        },
        "id": "uGdTmh1-E-Jk",
        "outputId": "cdc9ac8f-4b8f-42eb-9c33-e552994c5f89"
      },
      "source": [
        "#range(1,5)         0         1           2          3         4\n",
        "# python          0         1           2         3         4           5\n",
        "minerales = ['selenita','aragonita','flourine','cuarzo','azulita','malaquita']\n",
        "minerales[2]"
      ],
      "execution_count": null,
      "outputs": [
        {
          "output_type": "execute_result",
          "data": {
            "application/vnd.google.colaboratory.intrinsic+json": {
              "type": "string"
            },
            "text/plain": [
              "'flourine'"
            ]
          },
          "metadata": {
            "tags": []
          },
          "execution_count": 54
        }
      ]
    },
    {
      "cell_type": "markdown",
      "metadata": {
        "id": "0fdwRzcqHTvU"
      },
      "source": [
        "# Concatenacion "
      ]
    },
    {
      "cell_type": "code",
      "metadata": {
        "colab": {
          "base_uri": "https://localhost:8080/"
        },
        "id": "1wxPkcwTHGY6",
        "outputId": "379a11f3-5856-4253-fc66-e453710e962d"
      },
      "source": [
        "minerales_y_pokemones = minerales+ ['oro', 'diamante','platino ' , 'cobre']\n",
        "minerales_y_pokemones"
      ],
      "execution_count": null,
      "outputs": [
        {
          "output_type": "execute_result",
          "data": {
            "text/plain": [
              "['selenita',\n",
              " 'aragonita',\n",
              " 'flourine',\n",
              " 'cuarzo',\n",
              " 'azulita',\n",
              " 'malaquita',\n",
              " 'oro',\n",
              " 'diamante',\n",
              " 'platino ',\n",
              " 'cobre']"
            ]
          },
          "metadata": {
            "tags": []
          },
          "execution_count": 57
        }
      ]
    },
    {
      "cell_type": "code",
      "metadata": {
        "colab": {
          "base_uri": "https://localhost:8080/"
        },
        "id": "OLGq9ifLHhgb",
        "outputId": "48640d28-0039-44d6-f440-94c2ae83f5a6"
      },
      "source": [
        "minerales.append('Pipe')\n",
        "minerales"
      ],
      "execution_count": null,
      "outputs": [
        {
          "output_type": "execute_result",
          "data": {
            "text/plain": [
              "['selenita', 'aragonita', 'flourine', 'cuarzo', 'azulita', 'malaquita', 'Pipe']"
            ]
          },
          "metadata": {
            "tags": []
          },
          "execution_count": 59
        }
      ]
    },
    {
      "cell_type": "code",
      "metadata": {
        "colab": {
          "base_uri": "https://localhost:8080/"
        },
        "id": "xs8YsFSTHt7Q",
        "outputId": "1c113c79-563b-480a-b33e-61d48f650b07"
      },
      "source": [
        "# pop saca el ultimo por defecto o el indice que pase como parametro \n",
        "minerales.pop()\n",
        "minerales"
      ],
      "execution_count": null,
      "outputs": [
        {
          "output_type": "execute_result",
          "data": {
            "text/plain": [
              "['selenita', 'flourine', 'cuarzo', 'azulita', 'malaquita']"
            ]
          },
          "metadata": {
            "tags": []
          },
          "execution_count": 61
        }
      ]
    },
    {
      "cell_type": "code",
      "metadata": {
        "colab": {
          "base_uri": "https://localhost:8080/"
        },
        "id": "bcZoH2dFH8cc",
        "outputId": "d53516a7-8117-49c7-9005-16f9df208660"
      },
      "source": [
        "minerales.sort(reverse=False)\n",
        "minerales"
      ],
      "execution_count": null,
      "outputs": [
        {
          "output_type": "execute_result",
          "data": {
            "text/plain": [
              "['azulita', 'cuarzo', 'flourine', 'malaquita', 'selenita']"
            ]
          },
          "metadata": {
            "tags": []
          },
          "execution_count": 62
        }
      ]
    },
    {
      "cell_type": "code",
      "metadata": {
        "colab": {
          "base_uri": "https://localhost:8080/"
        },
        "id": "7OjZOrSK9yFs",
        "outputId": "52582f9d-54b8-45cc-b7b0-0aafad5b5bde"
      },
      "source": [
        "numeros = [ 1,5,7,954,785,124,594,85,96,4,85,45,64,64]\n",
        "numeros.sort(reverse= True)\n",
        "numeros"
      ],
      "execution_count": null,
      "outputs": [
        {
          "output_type": "execute_result",
          "data": {
            "text/plain": [
              "[954, 785, 594, 124, 96, 85, 85, 64, 64, 45, 7, 5, 4, 1]"
            ]
          },
          "metadata": {
            "tags": []
          },
          "execution_count": 63
        }
      ]
    },
    {
      "cell_type": "code",
      "metadata": {
        "colab": {
          "base_uri": "https://localhost:8080/"
        },
        "id": "1XNzGQcJfHXN",
        "outputId": "30dc9402-434a-47cc-b41f-a3170d82643b"
      },
      "source": [
        "dir(pokemones)"
      ],
      "execution_count": null,
      "outputs": [
        {
          "output_type": "execute_result",
          "data": {
            "text/plain": [
              "['__add__',\n",
              " '__class__',\n",
              " '__contains__',\n",
              " '__delattr__',\n",
              " '__delitem__',\n",
              " '__dir__',\n",
              " '__doc__',\n",
              " '__eq__',\n",
              " '__format__',\n",
              " '__ge__',\n",
              " '__getattribute__',\n",
              " '__getitem__',\n",
              " '__gt__',\n",
              " '__hash__',\n",
              " '__iadd__',\n",
              " '__imul__',\n",
              " '__init__',\n",
              " '__init_subclass__',\n",
              " '__iter__',\n",
              " '__le__',\n",
              " '__len__',\n",
              " '__lt__',\n",
              " '__mul__',\n",
              " '__ne__',\n",
              " '__new__',\n",
              " '__reduce__',\n",
              " '__reduce_ex__',\n",
              " '__repr__',\n",
              " '__reversed__',\n",
              " '__rmul__',\n",
              " '__setattr__',\n",
              " '__setitem__',\n",
              " '__sizeof__',\n",
              " '__str__',\n",
              " '__subclasshook__',\n",
              " 'append',\n",
              " 'clear',\n",
              " 'copy',\n",
              " 'count',\n",
              " 'extend',\n",
              " 'index',\n",
              " 'insert',\n",
              " 'pop',\n",
              " 'remove',\n",
              " 'reverse',\n",
              " 'sort']"
            ]
          },
          "metadata": {
            "tags": []
          },
          "execution_count": 132
        }
      ]
    },
    {
      "cell_type": "code",
      "metadata": {
        "id": "BnfzWTWWtf3K",
        "colab": {
          "base_uri": "https://localhost:8080/"
        },
        "outputId": "4ca1896b-f48d-4f6e-a94b-0a579349575e"
      },
      "source": [
        "# Rap de los minerales\n",
        "# cuantos minerales puedes nombres ? \n",
        "minerales = []\n",
        "mineral = '-'\n",
        "while(mineral != ''):\n",
        "  mineral = input(\" ingrese un mineral a la lista : \")\n",
        "  if(mineral != ''):\n",
        "    minerales.append(mineral)}\n",
        "\n",
        "print(\" se dijeron \", len(minerales) , \" minerales \")"
      ],
      "execution_count": null,
      "outputs": [
        {
          "output_type": "stream",
          "text": [
            " ingrese un mineral a la listaoro\n",
            " ingrese un mineral a la listaperro\n",
            " ingrese un mineral a la listacomputador\n",
            " ingrese un mineral a la listavaso \n",
            " ingrese un mineral a la lista\n",
            " se dijeron  4  minerales \n"
          ],
          "name": "stdout"
        }
      ]
    },
    {
      "cell_type": "markdown",
      "metadata": {
        "id": "0cldMlxjt6cX"
      },
      "source": [
        "# operadores de pertenencia (10)\n",
        "\n",
        "<center><img src=\"https://www.thecoderpedia.com/wp-content/uploads/2020/06/Programming-Memes-Error-in-Code-896x1024.jpg\"\n",
        "     alt=\"imagen Geologicsa\"\n",
        "     style=\"float: left; margin-right: 10px;\" \n",
        "     width=\"500\" height=\"600\"\n",
        "     />\n",
        "</center>"
      ]
    },
    {
      "cell_type": "code",
      "metadata": {
        "colab": {
          "base_uri": "https://localhost:8080/"
        },
        "id": "lcawZoOot9Q_",
        "outputId": "ac9767a4-1093-4fd4-b0fb-c39ba5515d2c"
      },
      "source": [
        "minerales_escala_dureza  = ['talco',\n",
        "                            'yeso',\n",
        "                            'calcita',\n",
        "                            'fluorita',\n",
        "                            'apatito',\n",
        "                            'ortosa',\n",
        "                            'cuarzo',\n",
        "                            'topacio',\n",
        "                            'corindon',\n",
        "                            'diamante'\n",
        "                            ]\n",
        "mineral_es_mineral = True\n",
        "minerales = []\n",
        "while ( mineral_es_mineral):\n",
        "  mineral = input(\" ingrese un mineral a la lista : \")\n",
        "  if(mineral in  minerales_escala_dureza ):\n",
        "    minerales.append(mineral)\n",
        "  else :\n",
        "    print(\" no es un mineral \")  \n",
        "    mineral_es_mineral = False\n",
        "print(\" se dijeron \", len(minerales) , \" minerales \")\n"
      ],
      "execution_count": null,
      "outputs": [
        {
          "output_type": "stream",
          "text": [
            " ingrese un mineral a la lista : yeso\n",
            " ingrese un mineral a la lista : diamente \n",
            " no es un mineral \n",
            " se dijeron  7  minerales \n"
          ],
          "name": "stdout"
        }
      ]
    },
    {
      "cell_type": "code",
      "metadata": {
        "colab": {
          "base_uri": "https://localhost:8080/",
          "height": 539
        },
        "id": "B4JjsUdW_skb",
        "outputId": "95a13842-bc50-4a0b-e1d2-32560b6cebd0"
      },
      "source": [
        "\n",
        "numeros = [4,5,9,8,97,2,16,4,69,464,64\n",
        "           ,64,654,654,654,65,46,54,64\n",
        "           ,654,6,87,984,16,89,6741,684,\n",
        "           1986,18,416,451,648,196,1,6841,\n",
        "           65,198,6416,654,16,541,686,74]\n",
        "x = int(input('ingrese un numero '))\n",
        "if( x not in numeros):\n",
        "  print(x, ' Esta en la lista')\n",
        "else : \n",
        "  print(x , ' no esta en la lista')"
      ],
      "execution_count": null,
      "outputs": [
        {
          "output_type": "error",
          "ename": "KeyboardInterrupt",
          "evalue": "ignored",
          "traceback": [
            "\u001b[0;31m---------------------------------------------------------------------------\u001b[0m",
            "\u001b[0;31mKeyboardInterrupt\u001b[0m                         Traceback (most recent call last)",
            "\u001b[0;32m/usr/local/lib/python3.7/dist-packages/ipykernel/kernelbase.py\u001b[0m in \u001b[0;36m_input_request\u001b[0;34m(self, prompt, ident, parent, password)\u001b[0m\n\u001b[1;32m    728\u001b[0m             \u001b[0;32mtry\u001b[0m\u001b[0;34m:\u001b[0m\u001b[0;34m\u001b[0m\u001b[0;34m\u001b[0m\u001b[0m\n\u001b[0;32m--> 729\u001b[0;31m                 \u001b[0mident\u001b[0m\u001b[0;34m,\u001b[0m \u001b[0mreply\u001b[0m \u001b[0;34m=\u001b[0m \u001b[0mself\u001b[0m\u001b[0;34m.\u001b[0m\u001b[0msession\u001b[0m\u001b[0;34m.\u001b[0m\u001b[0mrecv\u001b[0m\u001b[0;34m(\u001b[0m\u001b[0mself\u001b[0m\u001b[0;34m.\u001b[0m\u001b[0mstdin_socket\u001b[0m\u001b[0;34m,\u001b[0m \u001b[0;36m0\u001b[0m\u001b[0;34m)\u001b[0m\u001b[0;34m\u001b[0m\u001b[0;34m\u001b[0m\u001b[0m\n\u001b[0m\u001b[1;32m    730\u001b[0m             \u001b[0;32mexcept\u001b[0m \u001b[0mException\u001b[0m\u001b[0;34m:\u001b[0m\u001b[0;34m\u001b[0m\u001b[0;34m\u001b[0m\u001b[0m\n",
            "\u001b[0;32m/usr/local/lib/python3.7/dist-packages/jupyter_client/session.py\u001b[0m in \u001b[0;36mrecv\u001b[0;34m(self, socket, mode, content, copy)\u001b[0m\n\u001b[1;32m    802\u001b[0m         \u001b[0;32mtry\u001b[0m\u001b[0;34m:\u001b[0m\u001b[0;34m\u001b[0m\u001b[0;34m\u001b[0m\u001b[0m\n\u001b[0;32m--> 803\u001b[0;31m             \u001b[0mmsg_list\u001b[0m \u001b[0;34m=\u001b[0m \u001b[0msocket\u001b[0m\u001b[0;34m.\u001b[0m\u001b[0mrecv_multipart\u001b[0m\u001b[0;34m(\u001b[0m\u001b[0mmode\u001b[0m\u001b[0;34m,\u001b[0m \u001b[0mcopy\u001b[0m\u001b[0;34m=\u001b[0m\u001b[0mcopy\u001b[0m\u001b[0;34m)\u001b[0m\u001b[0;34m\u001b[0m\u001b[0;34m\u001b[0m\u001b[0m\n\u001b[0m\u001b[1;32m    804\u001b[0m         \u001b[0;32mexcept\u001b[0m \u001b[0mzmq\u001b[0m\u001b[0;34m.\u001b[0m\u001b[0mZMQError\u001b[0m \u001b[0;32mas\u001b[0m \u001b[0me\u001b[0m\u001b[0;34m:\u001b[0m\u001b[0;34m\u001b[0m\u001b[0;34m\u001b[0m\u001b[0m\n",
            "\u001b[0;32m/usr/local/lib/python3.7/dist-packages/zmq/sugar/socket.py\u001b[0m in \u001b[0;36mrecv_multipart\u001b[0;34m(self, flags, copy, track)\u001b[0m\n\u001b[1;32m    582\u001b[0m         \"\"\"\n\u001b[0;32m--> 583\u001b[0;31m         \u001b[0mparts\u001b[0m \u001b[0;34m=\u001b[0m \u001b[0;34m[\u001b[0m\u001b[0mself\u001b[0m\u001b[0;34m.\u001b[0m\u001b[0mrecv\u001b[0m\u001b[0;34m(\u001b[0m\u001b[0mflags\u001b[0m\u001b[0;34m,\u001b[0m \u001b[0mcopy\u001b[0m\u001b[0;34m=\u001b[0m\u001b[0mcopy\u001b[0m\u001b[0;34m,\u001b[0m \u001b[0mtrack\u001b[0m\u001b[0;34m=\u001b[0m\u001b[0mtrack\u001b[0m\u001b[0;34m)\u001b[0m\u001b[0;34m]\u001b[0m\u001b[0;34m\u001b[0m\u001b[0;34m\u001b[0m\u001b[0m\n\u001b[0m\u001b[1;32m    584\u001b[0m         \u001b[0;31m# have first part already, only loop while more to receive\u001b[0m\u001b[0;34m\u001b[0m\u001b[0;34m\u001b[0m\u001b[0;34m\u001b[0m\u001b[0m\n",
            "\u001b[0;32mzmq/backend/cython/socket.pyx\u001b[0m in \u001b[0;36mzmq.backend.cython.socket.Socket.recv\u001b[0;34m()\u001b[0m\n",
            "\u001b[0;32mzmq/backend/cython/socket.pyx\u001b[0m in \u001b[0;36mzmq.backend.cython.socket.Socket.recv\u001b[0;34m()\u001b[0m\n",
            "\u001b[0;32mzmq/backend/cython/socket.pyx\u001b[0m in \u001b[0;36mzmq.backend.cython.socket._recv_copy\u001b[0;34m()\u001b[0m\n",
            "\u001b[0;32m/usr/local/lib/python3.7/dist-packages/zmq/backend/cython/checkrc.pxd\u001b[0m in \u001b[0;36mzmq.backend.cython.checkrc._check_rc\u001b[0;34m()\u001b[0m\n",
            "\u001b[0;31mKeyboardInterrupt\u001b[0m: ",
            "\nDuring handling of the above exception, another exception occurred:\n",
            "\u001b[0;31mKeyboardInterrupt\u001b[0m                         Traceback (most recent call last)",
            "\u001b[0;32m<ipython-input-79-993ac6e398e5>\u001b[0m in \u001b[0;36m<module>\u001b[0;34m()\u001b[0m\n\u001b[1;32m      5\u001b[0m            \u001b[0;36m1986\u001b[0m\u001b[0;34m,\u001b[0m\u001b[0;36m18\u001b[0m\u001b[0;34m,\u001b[0m\u001b[0;36m416\u001b[0m\u001b[0;34m,\u001b[0m\u001b[0;36m451\u001b[0m\u001b[0;34m,\u001b[0m\u001b[0;36m648\u001b[0m\u001b[0;34m,\u001b[0m\u001b[0;36m196\u001b[0m\u001b[0;34m,\u001b[0m\u001b[0;36m1\u001b[0m\u001b[0;34m,\u001b[0m\u001b[0;36m6841\u001b[0m\u001b[0;34m,\u001b[0m\u001b[0;34m\u001b[0m\u001b[0;34m\u001b[0m\u001b[0m\n\u001b[1;32m      6\u001b[0m            65,198,6416,654,16,541,686,74]\n\u001b[0;32m----> 7\u001b[0;31m \u001b[0mx\u001b[0m \u001b[0;34m=\u001b[0m \u001b[0mint\u001b[0m\u001b[0;34m(\u001b[0m\u001b[0minput\u001b[0m\u001b[0;34m(\u001b[0m\u001b[0;34m'ingrese un numero '\u001b[0m\u001b[0;34m)\u001b[0m\u001b[0;34m)\u001b[0m\u001b[0;34m\u001b[0m\u001b[0;34m\u001b[0m\u001b[0m\n\u001b[0m\u001b[1;32m      8\u001b[0m \u001b[0;32mif\u001b[0m\u001b[0;34m(\u001b[0m \u001b[0mx\u001b[0m \u001b[0;32mnot\u001b[0m \u001b[0;32min\u001b[0m \u001b[0mnumeros\u001b[0m\u001b[0;34m)\u001b[0m\u001b[0;34m:\u001b[0m\u001b[0;34m\u001b[0m\u001b[0;34m\u001b[0m\u001b[0m\n\u001b[1;32m      9\u001b[0m   \u001b[0mprint\u001b[0m\u001b[0;34m(\u001b[0m\u001b[0mx\u001b[0m\u001b[0;34m,\u001b[0m \u001b[0;34m' Esta en la lista'\u001b[0m\u001b[0;34m)\u001b[0m\u001b[0;34m\u001b[0m\u001b[0;34m\u001b[0m\u001b[0m\n",
            "\u001b[0;32m/usr/local/lib/python3.7/dist-packages/ipykernel/kernelbase.py\u001b[0m in \u001b[0;36mraw_input\u001b[0;34m(self, prompt)\u001b[0m\n\u001b[1;32m    702\u001b[0m             \u001b[0mself\u001b[0m\u001b[0;34m.\u001b[0m\u001b[0m_parent_ident\u001b[0m\u001b[0;34m,\u001b[0m\u001b[0;34m\u001b[0m\u001b[0;34m\u001b[0m\u001b[0m\n\u001b[1;32m    703\u001b[0m             \u001b[0mself\u001b[0m\u001b[0;34m.\u001b[0m\u001b[0m_parent_header\u001b[0m\u001b[0;34m,\u001b[0m\u001b[0;34m\u001b[0m\u001b[0;34m\u001b[0m\u001b[0m\n\u001b[0;32m--> 704\u001b[0;31m             \u001b[0mpassword\u001b[0m\u001b[0;34m=\u001b[0m\u001b[0;32mFalse\u001b[0m\u001b[0;34m,\u001b[0m\u001b[0;34m\u001b[0m\u001b[0;34m\u001b[0m\u001b[0m\n\u001b[0m\u001b[1;32m    705\u001b[0m         )\n\u001b[1;32m    706\u001b[0m \u001b[0;34m\u001b[0m\u001b[0m\n",
            "\u001b[0;32m/usr/local/lib/python3.7/dist-packages/ipykernel/kernelbase.py\u001b[0m in \u001b[0;36m_input_request\u001b[0;34m(self, prompt, ident, parent, password)\u001b[0m\n\u001b[1;32m    732\u001b[0m             \u001b[0;32mexcept\u001b[0m \u001b[0mKeyboardInterrupt\u001b[0m\u001b[0;34m:\u001b[0m\u001b[0;34m\u001b[0m\u001b[0;34m\u001b[0m\u001b[0m\n\u001b[1;32m    733\u001b[0m                 \u001b[0;31m# re-raise KeyboardInterrupt, to truncate traceback\u001b[0m\u001b[0;34m\u001b[0m\u001b[0;34m\u001b[0m\u001b[0;34m\u001b[0m\u001b[0m\n\u001b[0;32m--> 734\u001b[0;31m                 \u001b[0;32mraise\u001b[0m \u001b[0mKeyboardInterrupt\u001b[0m\u001b[0;34m\u001b[0m\u001b[0;34m\u001b[0m\u001b[0m\n\u001b[0m\u001b[1;32m    735\u001b[0m             \u001b[0;32melse\u001b[0m\u001b[0;34m:\u001b[0m\u001b[0;34m\u001b[0m\u001b[0;34m\u001b[0m\u001b[0m\n\u001b[1;32m    736\u001b[0m                 \u001b[0;32mbreak\u001b[0m\u001b[0;34m\u001b[0m\u001b[0;34m\u001b[0m\u001b[0m\n",
            "\u001b[0;31mKeyboardInterrupt\u001b[0m: "
          ]
        }
      ]
    },
    {
      "cell_type": "code",
      "metadata": {
        "id": "J9pvVFufB3MY"
      },
      "source": [
        "lista_invitados = ['tom','perez','feliz']\n",
        "\n",
        "nombre_invitado = input('ingrese el nombre del invitado ')\n",
        "print( nombre_invitado not in lista_invitados)\n",
        "if( nombre_invitado not in lista_invitados):\n",
        "  print(nombre_invitado, ' No puede entrar ')\n",
        "else : \n",
        "  print(nombre_invitado , ' Puede entrar ')"
      ],
      "execution_count": null,
      "outputs": []
    },
    {
      "cell_type": "markdown",
      "metadata": {
        "id": "vVB-26vyvyrG"
      },
      "source": [
        "# introduccion a matplotlib y librerias (20)\n",
        "\n",
        " <center><img src=\"https://www.thecoderpedia.com/wp-content/uploads/2020/06/Programming-Memes-Hello-World-893x1024.jpg\"\n",
        "     alt=\"imagen Geologicsa\"\n",
        "     style=\"float: left; margin-right: 10px;\" \n",
        "     width=\"500\" height=\"600\"\n",
        "     />\n",
        "</center>\n",
        "\n",
        " - libreria ( 2 )\n",
        " - importar libreria ( 5)\n",
        " - alias de libreria ( 3 )\n",
        " - dibujando una linea (5 )\n",
        " - Dibujando minerales en su escala de dureza "
      ]
    },
    {
      "cell_type": "code",
      "metadata": {
        "id": "40ZyLNcawOVK"
      },
      "source": [
        "from matplotlib import pyplot as plt\n",
        "import math as math\n",
        "import numpy as np \n",
        "import pandas as pd "
      ],
      "execution_count": null,
      "outputs": []
    },
    {
      "cell_type": "code",
      "metadata": {
        "colab": {
          "base_uri": "https://localhost:8080/",
          "height": 537
        },
        "id": "tH_j7EuXRwvo",
        "outputId": "64790e97-9a31-42b6-b7b6-4b8de5de8a46"
      },
      "source": [
        "plt.figure(figsize= ( 16,9))\n",
        "plt.plot(1,1,'go')\n",
        "plt.show()"
      ],
      "execution_count": null,
      "outputs": [
        {
          "output_type": "display_data",
          "data": {
            "image/png": "[encoded data removed]",
            "text/plain": [
              "<Figure size 1152x648 with 1 Axes>"
            ]
          },
          "metadata": {
            "tags": [],
            "needs_background": "light"
          }
        }
      ]
    },
    {
      "cell_type": "code",
      "metadata": {
        "colab": {
          "base_uri": "https://localhost:8080/",
          "height": 299
        },
        "id": "JBhl7PYKwSrA",
        "outputId": "c709fd23-552b-484a-8731-f458af2d5cd6"
      },
      "source": [
        "x = [1,2,3,4,5,6]\n",
        "y = [1,2,6,8,10,12]\n",
        "plt.plot(x,y,'r-',alpha= 0.2)\n",
        "plt.grid(True)\n",
        "plt.title('linea homogenea',fontsize = 18,color = 'g',alpha=0.2)\n",
        "plt.xlabel('duracion')\n",
        "plt.ylabel('frecuencia')\n",
        "plt.bar(1,8,alpha = 0.3)\n",
        "plt.legend({'curva de temperatura','cosito'})\n",
        "plt.show()"
      ],
      "execution_count": null,
      "outputs": [
        {
          "output_type": "display_data",
          "data": {
            "image/png": "[encoded data removed]",
            "text/plain": [
              "<Figure size 432x288 with 1 Axes>"
            ]
          },
          "metadata": {
            "tags": [],
            "needs_background": "light"
          }
        }
      ]
    },
    {
      "cell_type": "code",
      "metadata": {
        "colab": {
          "base_uri": "https://localhost:8080/",
          "height": 281
        },
        "id": "FSIdi-uowoxq",
        "outputId": "1cd8af7d-d7f2-473a-db17-86f3ffbdcc10"
      },
      "source": [
        "minerales_escala_dureza  = ['talco',\n",
        "                            'yeso',\n",
        "                            'calcita',\n",
        "                            'fluorita',\n",
        "                            'apatito',\n",
        "                            'ortosa',\n",
        "                            'cuarzo',\n",
        "                            'topacio',\n",
        "                            'corindon',\n",
        "                            'diamante'\n",
        "                            ]\n",
        "\n",
        "plt.figure(figsize=(15,4))\n",
        "for indice,mineral in enumerate(minerales_escala_dureza) : \n",
        "  plt.plot(indice,indice+1,'*')\n",
        "  \n",
        "plt.legend(minerales_escala_dureza)\n",
        "plt.grid(1)\n",
        "plt.title('Dureza mineral')\n",
        "plt.xticks(range(10))\n",
        "plt.show()"
      ],
      "execution_count": null,
      "outputs": [
        {
          "output_type": "display_data",
          "data": {
            "image/png": "[encoded data removed]",
            "text/plain": [
              "<Figure size 1080x288 with 1 Axes>"
            ]
          },
          "metadata": {
            "tags": [],
            "needs_background": "light"
          }
        }
      ]
    },
    {
      "cell_type": "code",
      "metadata": {
        "colab": {
          "base_uri": "https://localhost:8080/",
          "height": 373
        },
        "id": "Y2y523IDypk7",
        "outputId": "0e0fc065-8209-4a15-c457-720e7b44cfee"
      },
      "source": [
        "mineral = 'cuarzo', 'hierro' ,'movildeno','diamante'\n",
        "porcentajes = [20,30,35,15 ]  \n",
        "distancia = (0.06,0.06,0.1,0.06)\n",
        "\n",
        "plt.figure(figsize=(6,6))\n",
        "plt.pie(porcentajes,labels =mineral,explode = distancia,autopct='%1.1f%%',\n",
        "        shadow=True)\n",
        "\n",
        "plt.\n",
        "plt.title('porcentaje de minerales en la muestra')\n",
        "plt.show()"
      ],
      "execution_count": null,
      "outputs": [
        {
          "output_type": "display_data",
          "data": {
            "image/png": "[encoded data removed]",
            "text/plain": [
              "<Figure size 432x432 with 1 Axes>"
            ]
          },
          "metadata": {
            "tags": []
          }
        }
      ]
    },
    {
      "cell_type": "code",
      "metadata": {
        "id": "LKUV4soWXppu"
      },
      "source": [
        "- Que parametros me va pedir plt \n",
        "- "
      ],
      "execution_count": null,
      "outputs": []
    },
    {
      "cell_type": "markdown",
      "metadata": {
        "id": "s3PejXPC2qyi"
      },
      "source": [
        "\n",
        " <center><img src=\"https://www.thecoderpedia.com/wp-content/uploads/2020/06/Online-Courses-Memes-1024x933.jpg\"\n",
        "     alt=\"imagen Geologicsa\"\n",
        "     style=\"float: left; margin-right: 10px;\" \n",
        "     width=\"500\" height=\"600\"\n",
        "     />\n",
        "</center>\n",
        "\n"
      ]
    }
  ]
}